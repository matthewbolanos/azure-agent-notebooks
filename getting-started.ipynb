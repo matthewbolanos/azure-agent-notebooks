{
 "cells": [
  {
   "cell_type": "markdown",
   "metadata": {},
   "source": [
    "# Getting started with Azure AI Agent Service\n",
    "\n",
    "## Running an existing agent\n",
    "If you've already created an agent, you can run it with the following code. Simply provide your agent ID."
   ]
  },
  {
   "cell_type": "code",
   "execution_count": 1,
   "metadata": {},
   "outputs": [],
   "source": [
    "# Ask user for agent_id from the python notebook\n",
    "agent_id = input(\"Enter agent_id: \")"
   ]
  },
  {
   "cell_type": "code",
   "execution_count": 2,
   "metadata": {},
   "outputs": [],
   "source": [
    "# Ask user for their connection ID to their Foundry project\n",
    "project_connection_string = input(\"Enter project connection string: \")"
   ]
  },
  {
   "cell_type": "code",
   "execution_count": 3,
   "metadata": {},
   "outputs": [],
   "source": [
    "import os\n",
    "import json\n",
    "from azure.ai.projects import AIProjectClient\n",
    "from azure.ai.projects.models import CodeInterpreterTool\n",
    "from azure.identity import DefaultAzureCredential\n",
    "from typing import Any\n",
    "from pathlib import Path\n",
    "\n",
    "# Create an Azure AI Client from a connection string, copied from your Azure AI Foundry project.\n",
    "# At the moment, it should be in the format \"<HostName>;<AzureSubscriptionId>;<ResourceGroup>;<ProjectName>\"\n",
    "# HostName can be found by navigating to your discovery_url and removing the leading \"https://\" and trailing \"/discovery\"\n",
    "# To find your discovery_url, run the CLI command: az ml workspace show -n {project_name} --resource-group {resource_group_name} --query discovery_url\n",
    "# Project Connection example: eastus.api.azureml.ms;12345678-abcd-1234-9fc6-62780b3d3e05;my-resource-group;my-project-name\n",
    "# Customer needs to login to Azure subscription via Azure CLI and set the environment variables\n",
    "\n",
    "project_client = AIProjectClient.from_connection_string(\n",
    "    credential=DefaultAzureCredential(), conn_str=project_connection_string\n",
    ")"
   ]
  },
  {
   "cell_type": "code",
   "execution_count": null,
   "metadata": {},
   "outputs": [],
   "source": [
    "# Verify that you can get the agent you already created\n",
    "agent = project_client.agents.get_agent(agent_id)\n",
    "print(agent)"
   ]
  },
  {
   "cell_type": "code",
   "execution_count": null,
   "metadata": {},
   "outputs": [],
   "source": [
    "# Let's talk to it!\n",
    "\n",
    "# Create a new conversation\n",
    "thread = project_client.agents.create_thread()\n",
    "\n",
    "while True:\n",
    "    user_input = input(\"User >\")\n",
    "    print(\"User >\", user_input)\n",
    "\n",
    "    if user_input == \"\":\n",
    "        break\n",
    "\n",
    "    message = project_client.agents.create_message(\n",
    "        thread_id=thread.id,\n",
    "        role=\"user\",\n",
    "        content=user_input,\n",
    "    )\n",
    "\n",
    "    print(\"Agent > \", end=\"\")\n",
    "    # Have agent process the conversation\n",
    "    with project_client.agents.create_stream(\n",
    "            thread_id=thread.id, assistant_id=agent.id\n",
    "        ) as stream:\n",
    "            for event_type, event_data, func_return in stream:\n",
    "                # print(event_data)\n",
    "                if event_type == \"thread.run.step.delta\":\n",
    "                    for tool_call in event_data.delta.step_details.tool_calls:\n",
    "                        if tool_call.type == \"bing_grounding\":\n",
    "                            print(tool_call['bing_grounding']['requesturl'])\n",
    "                if event_type == \"thread.message.delta\":\n",
    "                    print(event_data.delta.content[0].text.value, end=\"\")\n",
    "    print()\n",
    "\n"
   ]
  }
 ],
 "metadata": {
  "kernelspec": {
   "display_name": "3.11",
   "language": "python",
   "name": "python3"
  },
  "language_info": {
   "codemirror_mode": {
    "name": "ipython",
    "version": 3
   },
   "file_extension": ".py",
   "mimetype": "text/x-python",
   "name": "python",
   "nbconvert_exporter": "python",
   "pygments_lexer": "ipython3",
   "version": "3.11.9"
  }
 },
 "nbformat": 4,
 "nbformat_minor": 2
}
